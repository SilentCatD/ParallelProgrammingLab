{
  "nbformat": 4,
  "nbformat_minor": 0,
  "metadata": {
    "colab": {
      "provenance": [],
      "collapsed_sections": []
    },
    "kernelspec": {
      "name": "python3",
      "display_name": "Python 3"
    },
    "accelerator": "GPU"
  },
  "cells": [
    {
      "cell_type": "markdown",
      "metadata": {
        "id": "eGBgThS8q8k3"
      },
      "source": [
        "Họ tên: Nguyễn Ngọc Phước\n",
        "\n",
        "MSSV: 19127519"
      ]
    },
    {
      "cell_type": "markdown",
      "metadata": {
        "id": "7qdrvDrCrnqz"
      },
      "source": [
        "# HW2: Cách thực thi song song trong CUDA"
      ]
    },
    {
      "cell_type": "markdown",
      "metadata": {
        "id": "VKXB0wA7yhq9"
      },
      "source": [
        "Với các GPU tương đối mới thì để biên dịch chỉ cần dùng câu lệnh: \\\n",
        "`nvcc tên-file.cu -o tên-file-chạy`\n",
        "\n",
        "Nhưng trên Colab mình thường lấy được GPU khá cũ là Tesla K80 với compute capability (phiên bản phần cứng) là 3.7; để biên dịch đúng với GPU khá cũ này thì bạn cần dùng câu lệnh: \\\n",
        "`nvcc -arch=sm_37 tên-file.cu -o tên-file-chạy` \\\n",
        "Trong đó, 37 chính là compute capability của GPU Tesla K80.\n",
        "\n",
        "Để phòng trường hợp khi làm bài bạn lấy được GPU có compute capability x.x nhưng khi chấm bài Thầy lại lấy được GPU có compute capability khác x.x, dưới đây mình sẽ có đoạn code Python để tự động lấy 2 con số ứng với compute capability của GPU và lưu vào 2 biến `major` và `minor`:\n"
      ]
    },
    {
      "cell_type": "code",
      "metadata": {
        "id": "bCkmnirl2xWF",
        "colab": {
          "base_uri": "https://localhost:8080/"
        },
        "outputId": "4e7f653b-be70-4be3-bbac-749fec0d1d0e"
      },
      "source": [
        "from numba import cuda\n",
        "major, minor = cuda.get_current_device().compute_capability\n",
        "print(f'GPU compute capability: {major}.{minor}')"
      ],
      "execution_count": 31,
      "outputs": [
        {
          "output_type": "stream",
          "name": "stdout",
          "text": [
            "GPU compute capability: 7.5\n"
          ]
        }
      ]
    },
    {
      "cell_type": "markdown",
      "metadata": {
        "id": "Tq1-pmi72yS6"
      },
      "source": [
        "Một khi đã chạy đoạn code Python ở trên, để biên dịch thì bạn sẽ dùng câu lệnh: \\\n",
        "`nvcc -arch=sm_{major}{minor} tên-file.cu -o tên-file-chạy`"
      ]
    },
    {
      "cell_type": "markdown",
      "metadata": {
        "id": "2xCyT0o8Z7nj"
      },
      "source": [
        "Dưới đây, khi làm bài thì bạn có thể tùy ý thêm/xóa cell. Đừng xóa mấy cell có chữ của Thầy là được."
      ]
    },
    {
      "cell_type": "markdown",
      "metadata": {
        "id": "DH9lSjFfr3Kw"
      },
      "source": [
        "## Câu 1A"
      ]
    },
    {
      "cell_type": "code",
      "metadata": {
        "id": "aZNqZuECjNso"
      },
      "source": [
        "!nvcc -arch=sm_{major}{minor} HW2_P1.cu -o HW2_P1"
      ],
      "execution_count": 32,
      "outputs": []
    },
    {
      "cell_type": "code",
      "metadata": {
        "id": "NVFUj14OYUyy",
        "colab": {
          "base_uri": "https://localhost:8080/"
        },
        "outputId": "d919cbb4-2c93-4bfa-8f84-fbc7d30ce13b"
      },
      "source": [
        "!./HW2_P1"
      ],
      "execution_count": 33,
      "outputs": [
        {
          "output_type": "stream",
          "name": "stdout",
          "text": [
            "**********GPU info**********\n",
            "Name: Tesla T4\n",
            "Compute capability: 7.5\n",
            "Num SMs: 40\n",
            "Max num threads per SM: 1024\n",
            "Max num warps per SM: 32\n",
            "GMEM: 15843721216 bytes\n",
            "****************************\n",
            "\n",
            "Input size: 16777217\n",
            "\n",
            "Kernel 1\n",
            "Grid size: 16385, block size: 512\n",
            "Kernel time = 1.879264 ms, post-kernel time = 0.050464 ms\n",
            "CORRECT :)\n",
            "\n",
            "Kernel 2\n",
            "Grid size: 16385, block size: 512\n",
            "Kernel time = 1.962304 ms, post-kernel time = 0.052288 ms\n",
            "CORRECT :)\n",
            "\n",
            "Kernel 3\n",
            "Grid size: 16385, block size: 512\n",
            "Kernel time = 0.979328 ms, post-kernel time = 0.051232 ms\n",
            "CORRECT :)\n"
          ]
        }
      ]
    },
    {
      "cell_type": "markdown",
      "metadata": {
        "id": "XebMjR45-0Io"
      },
      "source": [
        "Từ kết quả trên, ta có thể thấy rõ kernel time của kernel 1 và 2 khá tương đương nhau, trong khi kernel 3 có sự chênh lệch rõ rệt.\n",
        "Điều này tuy nhiên là khá lạ, bởi theo slide và theo tính chất thuật toán ta có sự khác biệt giữa 3 kernel như sau:\n",
        "\n",
        "- Kernel 1: có thể xem như từng thread sẽ xử lý một vị trí cố định trong array, vậy nên theo slide, sẽ dẫn đến trường hợp tất cả các warp đều phân kì do các thread chạy xen kẽ nhau. (0, 2, 4, 8,...)\n",
        "- Kernel 2: ở mỗi loop, vị trí của phần từ mà từng thread xử lý sẽ có sự thay đổi, khiến cho các thread kề nhau xử lý cùng một câu lệnh, giảm sự phân kì trong quá trình chạy. (phân nửa đầu số thread xử lý một khoảng sẽ chạy, trong khi phần còn lại không)\n",
        "- Kernel 3: Khá giống với kernel 2 về quản lý sự phân kì ở điểm nửa đầu số thread xử lý một nhóm phần tử sẽ chạy, tuy nhiên lúc này do các phần tử nằm sát nhau, ta tối ưu được hiệu năng truy suất, khiến thời gian chạy nhanh hơn.\n",
        "\n",
        "Tuy nhiên khi kết quả trả về, ta lại thấy sự chênh lệch rõ rệt, trong khi Kernel 2 phải gần Kernel 3 hơn, tuy nhiên thực tế kernel 2 lại gần kernel 1 hơn. Mặc dù 2 kernel đầu code đúng như trong slide."
      ]
    },
    {
      "cell_type": "markdown",
      "metadata": {
        "id": "M9wMWgeV--5b"
      },
      "source": [
        "## Câu 1B\n"
      ]
    },
    {
      "cell_type": "code",
      "metadata": {
        "id": "tMsckPIh_Ije",
        "colab": {
          "base_uri": "https://localhost:8080/"
        },
        "outputId": "0a2ede98-3e4a-46ab-f36e-392aefc16a68"
      },
      "source": [
        "!./HW2_P1 1024"
      ],
      "execution_count": 34,
      "outputs": [
        {
          "output_type": "stream",
          "name": "stdout",
          "text": [
            "**********GPU info**********\n",
            "Name: Tesla T4\n",
            "Compute capability: 7.5\n",
            "Num SMs: 40\n",
            "Max num threads per SM: 1024\n",
            "Max num warps per SM: 32\n",
            "GMEM: 15843721216 bytes\n",
            "****************************\n",
            "\n",
            "Input size: 16777217\n",
            "\n",
            "Kernel 1\n",
            "Grid size: 8193, block size: 1024\n",
            "Kernel time = 2.598144 ms, post-kernel time = 0.030048 ms\n",
            "CORRECT :)\n",
            "\n",
            "Kernel 2\n",
            "Grid size: 8193, block size: 1024\n",
            "Kernel time = 2.662944 ms, post-kernel time = 0.032672 ms\n",
            "CORRECT :)\n",
            "\n",
            "Kernel 3\n",
            "Grid size: 8193, block size: 1024\n",
            "Kernel time = 1.265408 ms, post-kernel time = 0.028960 ms\n",
            "CORRECT :)\n"
          ]
        }
      ]
    },
    {
      "cell_type": "code",
      "metadata": {
        "id": "ydvO00hC_JMW",
        "colab": {
          "base_uri": "https://localhost:8080/"
        },
        "outputId": "56f5d986-17bd-4674-e3ee-98666b7525b0"
      },
      "source": [
        "!./HW2_P1 512"
      ],
      "execution_count": 35,
      "outputs": [
        {
          "output_type": "stream",
          "name": "stdout",
          "text": [
            "**********GPU info**********\n",
            "Name: Tesla T4\n",
            "Compute capability: 7.5\n",
            "Num SMs: 40\n",
            "Max num threads per SM: 1024\n",
            "Max num warps per SM: 32\n",
            "GMEM: 15843721216 bytes\n",
            "****************************\n",
            "\n",
            "Input size: 16777217\n",
            "\n",
            "Kernel 1\n",
            "Grid size: 16385, block size: 512\n",
            "Kernel time = 1.875840 ms, post-kernel time = 0.049792 ms\n",
            "CORRECT :)\n",
            "\n",
            "Kernel 2\n",
            "Grid size: 16385, block size: 512\n",
            "Kernel time = 1.961568 ms, post-kernel time = 0.049856 ms\n",
            "CORRECT :)\n",
            "\n",
            "Kernel 3\n",
            "Grid size: 16385, block size: 512\n",
            "Kernel time = 0.978016 ms, post-kernel time = 0.053152 ms\n",
            "CORRECT :)\n"
          ]
        }
      ]
    },
    {
      "cell_type": "code",
      "metadata": {
        "id": "OoxamhSa_Jjc",
        "colab": {
          "base_uri": "https://localhost:8080/"
        },
        "outputId": "123b958c-2b24-43ca-9d11-c30def0453c5"
      },
      "source": [
        "!./HW2_P1 256"
      ],
      "execution_count": 36,
      "outputs": [
        {
          "output_type": "stream",
          "name": "stdout",
          "text": [
            "**********GPU info**********\n",
            "Name: Tesla T4\n",
            "Compute capability: 7.5\n",
            "Num SMs: 40\n",
            "Max num threads per SM: 1024\n",
            "Max num warps per SM: 32\n",
            "GMEM: 15843721216 bytes\n",
            "****************************\n",
            "\n",
            "Input size: 16777217\n",
            "\n",
            "Kernel 1\n",
            "Grid size: 32769, block size: 256\n",
            "Kernel time = 1.528896 ms, post-kernel time = 0.089184 ms\n",
            "CORRECT :)\n",
            "\n",
            "Kernel 2\n",
            "Grid size: 32769, block size: 256\n",
            "Kernel time = 1.586784 ms, post-kernel time = 0.088160 ms\n",
            "CORRECT :)\n",
            "\n",
            "Kernel 3\n",
            "Grid size: 32769, block size: 256\n",
            "Kernel time = 0.840992 ms, post-kernel time = 0.097696 ms\n",
            "CORRECT :)\n"
          ]
        }
      ]
    },
    {
      "cell_type": "code",
      "metadata": {
        "id": "MF_Kjjqe_J3F",
        "colab": {
          "base_uri": "https://localhost:8080/"
        },
        "outputId": "0cca0acf-a343-4893-f34a-56cbab03527a"
      },
      "source": [
        "!./HW2_P1 128"
      ],
      "execution_count": 37,
      "outputs": [
        {
          "output_type": "stream",
          "name": "stdout",
          "text": [
            "**********GPU info**********\n",
            "Name: Tesla T4\n",
            "Compute capability: 7.5\n",
            "Num SMs: 40\n",
            "Max num threads per SM: 1024\n",
            "Max num warps per SM: 32\n",
            "GMEM: 15843721216 bytes\n",
            "****************************\n",
            "\n",
            "Input size: 16777217\n",
            "\n",
            "Kernel 1\n",
            "Grid size: 65537, block size: 128\n",
            "Kernel time = 1.325248 ms, post-kernel time = 0.165280 ms\n",
            "CORRECT :)\n",
            "\n",
            "Kernel 2\n",
            "Grid size: 65537, block size: 128\n",
            "Kernel time = 1.368928 ms, post-kernel time = 0.172800 ms\n",
            "CORRECT :)\n",
            "\n",
            "Kernel 3\n",
            "Grid size: 65537, block size: 128\n",
            "Kernel time = 0.737792 ms, post-kernel time = 0.169792 ms\n",
            "CORRECT :)\n"
          ]
        }
      ]
    },
    {
      "cell_type": "markdown",
      "source": [
        "Sau khi tra bảng theo Compute Capability 7.5 thì ta có 3 thông số quan trọng là:\n",
        "- Maximum number of resident blocks per SM:\t`16`\n",
        "- Maximum number of resident threads per SM:\t`1024` \n",
        "- Maximum number of resident warps per SM:\t`32`, con số này cũng có thể tính bằng cách lấy max threads per sm / 32 = 32\n"
      ],
      "metadata": {
        "id": "5lW-vX2ILf-Z"
      }
    },
    {
      "cell_type": "markdown",
      "source": [
        "Tính `Grid Size`: Với grid size, ta thấy rằng ở đây, vào lần chạy đầu tiên của for loop, 1 thread sẽ xử lý 2 phần từ. Nên thông số này có thể tính bằng cách lấy: `(n-1)/ (blockSize.x * 2) + 1`"
      ],
      "metadata": {
        "id": "qaruf2YmN1k4"
      }
    },
    {
      "cell_type": "markdown",
      "source": [
        "Tính `Numb blocks / SM`: Với thông số trên, ta hoàn toàn có được max thread per SM và max blocks per SM. \n",
        "Ta có thể lấy block size chia cho 1024 để đạt được số block sẽ chạy trên 1 SM.\n",
        "\n",
        "Trong nhiều trường hợp, con số này sẽ vượt quá max block per sm, và ta sẽ phải lấy maximun block per sm làm giá trị. Nhưng do ở đây compute capability là 7.5 thì max là 16, con số khá lớn nên không gặp trường hợp này."
      ],
      "metadata": {
        "id": "V1S5cXNuMq8E"
      }
    },
    {
      "cell_type": "markdown",
      "source": [
        "Tính `Occupancy`: Là số warp hiện đang xử dụng trên 1 SM / số warp tối đa trên 1 SM, hay nói cách khác: `(((block Size) / 32) * Num blocks / SM) / 32 * 100`. Với 32 ở cuối công thức là số warp max per sm."
      ],
      "metadata": {
        "id": "P1a8qS9OPY0-"
      }
    },
    {
      "cell_type": "markdown",
      "metadata": {
        "id": "L9PXsn1C_L4L"
      },
      "source": [
        "Block size | Grid size | Num blocks / SM | Occupancy (%) | Kernel time (ms) | Post-kernel time (ms) | Total time (ms)\n",
        "--- | --- | --- | --- | --- | --- | ---\n",
        "1024 | 8193 | 1 | 100 | 2.598144 | 0.030048 | 2.628192\n",
        "512 | 16385 | 2 | 100 | 1.875840 | 0.049792 | 1.925632\n",
        "256 | 32769 | 4 | 100 | 1.528896 | 0.089184 | 1.61808\n",
        "128 | 65537 | 8 | 100 | 1.325248 | 0.165280 | 1.490528"
      ]
    },
    {
      "cell_type": "markdown",
      "source": [
        "Theo tính chất thuật toán. Số block size chính là chiều dài của array cần tính tổng sau khi thực hiện tính toán trên kernel.\n",
        "\n",
        "Vậy nên khi block size càng nhỏ: thời gian tính toán trên kernel càng nhỏ, do số lượng phần tử mà từng block xử lý sẽ ít đi, nhưng thời gian tính tổng ở post kernel càng tăng, do số lượng phần từ cần phải tính tổng càng tăng.\n"
      ],
      "metadata": {
        "id": "i6JFV6KKTJqZ"
      }
    },
    {
      "cell_type": "markdown",
      "metadata": {
        "id": "XlycLWxberDO"
      },
      "source": [
        "## Câu 2"
      ]
    },
    {
      "cell_type": "code",
      "metadata": {
        "id": "GG1mOFWW7zlB"
      },
      "source": [
        "!nvcc -arch=sm_{major}{minor} HW2_P2.cu -o HW2_P2"
      ],
      "execution_count": 38,
      "outputs": []
    },
    {
      "cell_type": "code",
      "metadata": {
        "id": "vbDf8XqIGFW6",
        "colab": {
          "base_uri": "https://localhost:8080/"
        },
        "outputId": "bf9dac43-6ea3-4ad2-f6c5-903019998342"
      },
      "source": [
        "!./HW2_P2 512 1"
      ],
      "execution_count": 42,
      "outputs": [
        {
          "output_type": "stream",
          "name": "stdout",
          "text": [
            "n =  16777217\n",
            "\n",
            "GPU name: Tesla T4\n",
            "GPU compute capability: 7.5\n",
            "Processing time of all device streams: 17.838655 ms\n",
            "\n",
            "CORRECT :)\n"
          ]
        }
      ]
    },
    {
      "cell_type": "markdown",
      "source": [
        "![312616776_1799982607029839_849173293501317750_n.png](data:image/png;base64,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)"
      ],
      "metadata": {
        "id": "x4X6_tsDWxZf"
      }
    },
    {
      "cell_type": "code",
      "metadata": {
        "id": "3IfmucpNibmm",
        "colab": {
          "base_uri": "https://localhost:8080/"
        },
        "outputId": "c0490415-5c31-4bbe-e111-16e661f86a63"
      },
      "source": [
        "!./HW2_P2 512 3"
      ],
      "execution_count": 41,
      "outputs": [
        {
          "output_type": "stream",
          "name": "stdout",
          "text": [
            "n =  16777217\n",
            "\n",
            "GPU name: Tesla T4\n",
            "GPU compute capability: 7.5\n",
            "Processing time of all device streams: 14.286624 ms\n",
            "\n",
            "CORRECT :)\n"
          ]
        }
      ]
    },
    {
      "cell_type": "markdown",
      "metadata": {
        "id": "OwzjJVcZE2Yc"
      },
      "source": [
        "![312327185_1155720745329508_943569053474058992_n.png](data:image/png;base64,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)"
      ]
    }
  ]
}